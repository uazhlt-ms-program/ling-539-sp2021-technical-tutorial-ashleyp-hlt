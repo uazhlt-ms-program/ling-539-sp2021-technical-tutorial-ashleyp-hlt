{
 "cells": [
  {
   "cell_type": "code",
   "execution_count": 22,
   "metadata": {},
   "outputs": [
    {
     "name": "stderr",
     "output_type": "stream",
     "text": [
      "/Users/administrator/opt/anaconda3/lib/python3.8/site-packages/tqdm/std.py:668: FutureWarning: The Panel class is removed from pandas. Accessing it from the top-level namespace will also be removed in the next version\n",
      "  from pandas import Panel\n",
      "100%|██████████| 298/298 [00:00<00:00, 353.31it/s]"
     ]
    },
    {
     "name": "stdout",
     "output_type": "stream",
     "text": [
      "[[ 1 -1 -1 ...  1 -1 -1]\n",
      " [ 1 -1 -1 ... -1 -1 -1]\n",
      " [ 1 -1 -1 ... -1 -1 -1]\n",
      " ...\n",
      " [-1 -1 -1 ... -1 -1 -1]\n",
      " [-1 -1 -1 ... -1 -1 -1]\n",
      " [-1 -1  1 ... -1 -1 -1]]\n"
     ]
    },
    {
     "name": "stderr",
     "output_type": "stream",
     "text": [
      "\n"
     ]
    }
   ],
   "source": [
    "import xml.etree.ElementTree as ET\n",
    "import pandas as pd\n",
    "\n",
    "rev_data = open('data.xml', 'r').read()\n",
    "root = ET.XML(rev_data)\n",
    "\n",
    "reviews = []\n",
    "dates = []\n",
    "for text in root.iter('text'):\n",
    "    reviews.append(text.text)   \n",
    "for date in root.iter('publishedAtDate'):\n",
    "    dates.append(date.text)\n",
    "\n",
    "dtrain = {}\n",
    "for key in reviews:\n",
    "    for value in dates:\n",
    "        dtrain[key] = value     \n",
    "\n",
    "dfr_train = pd.Series(dtrain).to_frame()\n",
    "\n",
    "from snorkel.labeling import labeling_function\n",
    "import re\n",
    "\n",
    "STUFF = 1\n",
    "FLUFF = 0\n",
    "ABSTAIN = -1\n",
    "\n",
    "@labeling_function()\n",
    "def recommend(x):\n",
    "    return STUFF if re.search(\"recommend|advice|advise|suggest|bring\",str(x)) else ABSTAIN\n",
    "\n",
    "@labeling_function()\n",
    "def warning(x):\n",
    "    return STUFF if re.search(\"warning|watch out|be sure to|plan for|be careful|avoid\", str(x)) else ABSTAIN\n",
    "\n",
    "@labeling_function()\n",
    "def parking(x):\n",
    "    return STUFF if re.search(\"parking\",str(x)) else ABSTAIN\n",
    "\n",
    "@labeling_function()\n",
    "def tour(x):\n",
    "    return STUFF if re.search(\"tour|helicopter|plane\",str(x)) else ABSTAIN\n",
    "\n",
    "@labeling_function()\n",
    "def shuttle(x):\n",
    "    return STUFF if re.search(\"shuttle[s]?|bus|bus stops\",str(x)) else ABSTAIN\n",
    "\n",
    "@labeling_function()\n",
    "def bathroom(x):\n",
    "    return STUFF if re.search(\"bathroom[s]?|facilities\",str(x)) else ABSTAIN\n",
    "\n",
    "@labeling_function()\n",
    "def food(x):\n",
    "    return STUFF if re.search(\"food|cafe|restaurant\",str(x)) else ABSTAIN\n",
    "\n",
    "@labeling_function()\n",
    "def pricing(x):\n",
    "    return STUFF if re.search(\"\\$\",str(x)) else ABSTAIN\n",
    "\n",
    "@labeling_function()\n",
    "def length(x):\n",
    "    return FLUFF if len(str(x)) < 60 else ABSTAIN\n",
    "\n",
    "from snorkel.labeling import PandasLFApplier\n",
    "lfs = [recommend, warning, parking, tour, shuttle, bathroom, food, pricing, length]\n",
    "applier = PandasLFApplier(lfs=lfs)\n",
    "L_train = applier.apply(dfr_train)\n",
    "print(L_train)\n",
    "#L_test = applier.apply(dfr_test)"
   ]
  },
  {
   "cell_type": "code",
   "execution_count": 23,
   "metadata": {},
   "outputs": [
    {
     "data": {
      "text/html": [
       "<div>\n",
       "<style scoped>\n",
       "    .dataframe tbody tr th:only-of-type {\n",
       "        vertical-align: middle;\n",
       "    }\n",
       "\n",
       "    .dataframe tbody tr th {\n",
       "        vertical-align: top;\n",
       "    }\n",
       "\n",
       "    .dataframe thead th {\n",
       "        text-align: right;\n",
       "    }\n",
       "</style>\n",
       "<table border=\"1\" class=\"dataframe\">\n",
       "  <thead>\n",
       "    <tr style=\"text-align: right;\">\n",
       "      <th></th>\n",
       "      <th>j</th>\n",
       "      <th>Polarity</th>\n",
       "      <th>Coverage</th>\n",
       "      <th>Overlaps</th>\n",
       "      <th>Conflicts</th>\n",
       "    </tr>\n",
       "  </thead>\n",
       "  <tbody>\n",
       "    <tr>\n",
       "      <th>recommend</th>\n",
       "      <td>0</td>\n",
       "      <td>[1]</td>\n",
       "      <td>0.157718</td>\n",
       "      <td>0.067114</td>\n",
       "      <td>0.0</td>\n",
       "    </tr>\n",
       "    <tr>\n",
       "      <th>warning</th>\n",
       "      <td>1</td>\n",
       "      <td>[1]</td>\n",
       "      <td>0.033557</td>\n",
       "      <td>0.026846</td>\n",
       "      <td>0.0</td>\n",
       "    </tr>\n",
       "    <tr>\n",
       "      <th>parking</th>\n",
       "      <td>2</td>\n",
       "      <td>[1]</td>\n",
       "      <td>0.043624</td>\n",
       "      <td>0.026846</td>\n",
       "      <td>0.0</td>\n",
       "    </tr>\n",
       "    <tr>\n",
       "      <th>tour</th>\n",
       "      <td>3</td>\n",
       "      <td>[1]</td>\n",
       "      <td>0.077181</td>\n",
       "      <td>0.043624</td>\n",
       "      <td>0.0</td>\n",
       "    </tr>\n",
       "    <tr>\n",
       "      <th>shuttle</th>\n",
       "      <td>4</td>\n",
       "      <td>[1]</td>\n",
       "      <td>0.104027</td>\n",
       "      <td>0.060403</td>\n",
       "      <td>0.0</td>\n",
       "    </tr>\n",
       "    <tr>\n",
       "      <th>bathroom</th>\n",
       "      <td>5</td>\n",
       "      <td>[1]</td>\n",
       "      <td>0.023490</td>\n",
       "      <td>0.016779</td>\n",
       "      <td>0.0</td>\n",
       "    </tr>\n",
       "    <tr>\n",
       "      <th>food</th>\n",
       "      <td>6</td>\n",
       "      <td>[1]</td>\n",
       "      <td>0.043624</td>\n",
       "      <td>0.023490</td>\n",
       "      <td>0.0</td>\n",
       "    </tr>\n",
       "    <tr>\n",
       "      <th>pricing</th>\n",
       "      <td>7</td>\n",
       "      <td>[1]</td>\n",
       "      <td>0.036913</td>\n",
       "      <td>0.026846</td>\n",
       "      <td>0.0</td>\n",
       "    </tr>\n",
       "    <tr>\n",
       "      <th>length</th>\n",
       "      <td>8</td>\n",
       "      <td>[]</td>\n",
       "      <td>0.000000</td>\n",
       "      <td>0.000000</td>\n",
       "      <td>0.0</td>\n",
       "    </tr>\n",
       "  </tbody>\n",
       "</table>\n",
       "</div>"
      ],
      "text/plain": [
       "           j Polarity  Coverage  Overlaps  Conflicts\n",
       "recommend  0      [1]  0.157718  0.067114        0.0\n",
       "warning    1      [1]  0.033557  0.026846        0.0\n",
       "parking    2      [1]  0.043624  0.026846        0.0\n",
       "tour       3      [1]  0.077181  0.043624        0.0\n",
       "shuttle    4      [1]  0.104027  0.060403        0.0\n",
       "bathroom   5      [1]  0.023490  0.016779        0.0\n",
       "food       6      [1]  0.043624  0.023490        0.0\n",
       "pricing    7      [1]  0.036913  0.026846        0.0\n",
       "length     8       []  0.000000  0.000000        0.0"
      ]
     },
     "execution_count": 23,
     "metadata": {},
     "output_type": "execute_result"
    }
   ],
   "source": [
    "from snorkel.labeling import LFAnalysis\n",
    "LFAnalysis(L=L_train, lfs=lfs,).lf_summary()"
   ]
  },
  {
   "cell_type": "code",
   "execution_count": 24,
   "metadata": {},
   "outputs": [
    {
     "data": {
      "text/plain": [
       "0.3389261744966443"
      ]
     },
     "execution_count": 24,
     "metadata": {},
     "output_type": "execute_result"
    }
   ],
   "source": [
    "LFAnalysis(L=L_train).label_coverage()"
   ]
  },
  {
   "cell_type": "code",
   "execution_count": 26,
   "metadata": {},
   "outputs": [
    {
     "data": {
      "text/html": [
       "<div>\n",
       "<style scoped>\n",
       "    .dataframe tbody tr th:only-of-type {\n",
       "        vertical-align: middle;\n",
       "    }\n",
       "\n",
       "    .dataframe tbody tr th {\n",
       "        vertical-align: top;\n",
       "    }\n",
       "\n",
       "    .dataframe thead th {\n",
       "        text-align: right;\n",
       "    }\n",
       "</style>\n",
       "<table border=\"1\" class=\"dataframe\">\n",
       "  <thead>\n",
       "    <tr style=\"text-align: right;\">\n",
       "      <th></th>\n",
       "      <th>0</th>\n",
       "    </tr>\n",
       "  </thead>\n",
       "  <tbody>\n",
       "    <tr>\n",
       "      <th>Spectacular, Beautiful, Wonderful and Inspirational.  One of God's gifts to us all.\\nThe cost per car was $35.  Nice hike around the rim.  We went during the year when it was still COLD, so be sure to check the weather as it got COLD FAST once the sun went down. Be sure to bring your camera as you will want to take plenty of photos.  Be Safe while taking your photos!</th>\n",
       "      <td>2020-10-04T02:20:08.660Z</td>\n",
       "    </tr>\n",
       "    <tr>\n",
       "      <th>Took me over 3 hours just to get to the gate.  And surprise, surprise, no parking.  I do not have a handicap sticker, but need a cane when doing a lot of walking.  Finally found a place to park and was able to make it to see the canyon.  People were rude, adults bumping into me with no apology. Kids totally unconscious of their surroundings and people.  People with their dogs on a long leash, is quite the trailer.  I was actually glad to get out of there!  If you go be sure to stay in the right lane as much as you can.  It goes much faster.</th>\n",
       "      <td>2020-10-04T02:20:08.660Z</td>\n",
       "    </tr>\n",
       "    <tr>\n",
       "      <th>For your visit:\\n\\nComing in the summer? Beware, there will be massive crowds and despite the ample parking area, it will all be packed, so be prepared to drive around for a while and then walk to the rim. The South Rim offers great views, but if you're there during the summer, I would suggest going down the Bright Angel Trail and seeing it all first-hand. The views are amazing and unlike anything you can see if you stay on the rim. It's also good to visit in the winter if you dislike crowds.\\n\\nAlso, if you're there for the summer, be sure to check out the North Rim. It's closed during the winter and a bit of a drive, but it's worth it. The Kaibab Trail is amazing and has much fewer people.</th>\n",
       "      <td>2020-10-04T02:20:08.660Z</td>\n",
       "    </tr>\n",
       "    <tr>\n",
       "      <th>Nothing negative to say about our trip to the Grand Canyon! We suggest that anyone going brings lots of water, and takes their vitamins to avoid heat exhaustion! Another great tip is to use the Gypsy Guide app, as it is a great tour guide through any national park and will give you all the ins and outs of the area, with great historical facts, and all the spots to stop and enjoy the view!!</th>\n",
       "      <td>2020-10-04T02:20:08.660Z</td>\n",
       "    </tr>\n",
       "    <tr>\n",
       "      <th>Just today on 4/8/2021 they opened the East entrance so there were not too many people there. The park is great, but plan for full parking lots and closed facilities.</th>\n",
       "      <td>2020-10-04T02:20:08.660Z</td>\n",
       "    </tr>\n",
       "  </tbody>\n",
       "</table>\n",
       "</div>"
      ],
      "text/plain": [
       "                                                                           0\n",
       "Spectacular, Beautiful, Wonderful and Inspirati...  2020-10-04T02:20:08.660Z\n",
       "Took me over 3 hours just to get to the gate.  ...  2020-10-04T02:20:08.660Z\n",
       "For your visit:\\n\\nComing in the summer? Beware...  2020-10-04T02:20:08.660Z\n",
       "Nothing negative to say about our trip to the G...  2020-10-04T02:20:08.660Z\n",
       "Just today on 4/8/2021 they opened the East ent...  2020-10-04T02:20:08.660Z"
      ]
     },
     "execution_count": 26,
     "metadata": {},
     "output_type": "execute_result"
    }
   ],
   "source": [
    "dfr_train.iloc[L_train[:,1] == STUFF].sample(5, random_state=1)"
   ]
  },
  {
   "cell_type": "code",
   "execution_count": 19,
   "metadata": {},
   "outputs": [],
   "source": [
    "from snorkel.labeling.model import LabelModel\n",
    "\n",
    "label_model = LabelModel(cardinality=2, verbose=True)\n",
    "label_model.fit(L_train, n_epochs=500, log_freq=100, seed=123)\n",
    "dfr_train[\"label\"] = label_model.predict(L_train)\n",
    "dfr_train = dfr_train[dfr_train.label != ABSTAIN]"
   ]
  }
 ],
 "metadata": {
  "kernelspec": {
   "display_name": "Python 3",
   "language": "python",
   "name": "python3"
  },
  "language_info": {
   "codemirror_mode": {
    "name": "ipython",
    "version": 3
   },
   "file_extension": ".py",
   "mimetype": "text/x-python",
   "name": "python",
   "nbconvert_exporter": "python",
   "pygments_lexer": "ipython3",
   "version": "3.8.3"
  }
 },
 "nbformat": 4,
 "nbformat_minor": 4
}
